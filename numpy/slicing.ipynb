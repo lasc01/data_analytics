{
 "cells": [
  {
   "cell_type": "code",
   "execution_count": 1,
   "id": "2f7fd136",
   "metadata": {},
   "outputs": [],
   "source": [
    "import numpy as np"
   ]
  },
  {
   "cell_type": "code",
   "execution_count": 2,
   "id": "4dcd9d61",
   "metadata": {},
   "outputs": [],
   "source": [
    "matrix_B = np.array([[[1,1,2,3,4], [4,1,3,7,2], [9,4,6,1,4]]])"
   ]
  },
  {
   "cell_type": "code",
   "execution_count": 3,
   "id": "fb657891",
   "metadata": {},
   "outputs": [
    {
     "data": {
      "text/plain": [
       "array([[[1, 1, 2, 3, 4],\n",
       "        [4, 1, 3, 7, 2],\n",
       "        [9, 4, 6, 1, 4]]])"
      ]
     },
     "execution_count": 3,
     "metadata": {},
     "output_type": "execute_result"
    }
   ],
   "source": [
    "matrix_B"
   ]
  },
  {
   "cell_type": "code",
   "execution_count": 4,
   "id": "683a979d",
   "metadata": {},
   "outputs": [
    {
     "name": "stdout",
     "output_type": "stream",
     "text": [
      "[[[1 1 2 3 4]\n",
      "  [4 1 3 7 2]\n",
      "  [9 4 6 1 4]]]\n"
     ]
    }
   ],
   "source": [
    "print(matrix_B[::2])"
   ]
  },
  {
   "cell_type": "code",
   "execution_count": null,
   "id": "104d2d52",
   "metadata": {},
   "outputs": [],
   "source": []
  }
 ],
 "metadata": {
  "kernelspec": {
   "display_name": "Python 3 (ipykernel)",
   "language": "python",
   "name": "python3"
  },
  "language_info": {
   "codemirror_mode": {
    "name": "ipython",
    "version": 3
   },
   "file_extension": ".py",
   "mimetype": "text/x-python",
   "name": "python",
   "nbconvert_exporter": "python",
   "pygments_lexer": "ipython3",
   "version": "3.11.5"
  }
 },
 "nbformat": 4,
 "nbformat_minor": 5
}
